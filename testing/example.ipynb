{
 "cells": [
  {
   "cell_type": "code",
   "execution_count": 1,
   "metadata": {},
   "outputs": [
    {
     "data": {
      "application/vnd.plotly.v1+json": {
       "config": {
        "plotlyServerURL": "https://plot.ly"
       },
       "data": [
        {
         "coloraxis": "coloraxis",
         "customdata": [
          [
           182979,
           7725
          ],
          [
           284758,
           3508
          ],
          [
           266181,
           6875
          ],
          [
           6505,
           31
          ],
          [
           44671,
           153
          ],
          [
           101320,
           1900
          ],
          [
           3476,
           9
          ],
          [
           8668,
           141
          ],
          [
           9394326,
           129109
          ],
          [
           423417,
           8626
          ],
          [
           41000,
           222
          ],
          [
           8327916,
           10131
          ],
          [
           4529939,
           20093
          ],
          [
           793506,
           9718
          ],
          [
           36082,
           818
          ],
          [
           634927,
           1498
          ],
          [
           1984700,
           29185
          ],
          [
           85331,
           477
          ],
          [
           994037,
           7118
          ],
          [
           4265296,
           31952
          ],
          [
           64581,
           680
          ],
          [
           27216,
           163
          ],
          [
           16162,
           140
          ],
          [
           59824,
           21
          ],
          [
           934235,
           21959
          ],
          [
           10432,
           37
          ],
          [
           379244,
           15808
          ],
          [
           323327,
           2752
          ],
          [
           32610514,
           672429
          ],
          [
           6941,
           63
          ],
          [
           171027,
           168
          ],
          [
           1175725,
           37263
          ],
          [
           21044,
           387
          ],
          [
           42836,
           15
          ],
          [
           61105,
           406
          ],
          [
           136308,
           3056
          ],
          [
           120068,
           1931
          ],
          [
           3932523,
           41756
          ],
          [
           27594,
           29
          ],
          [
           14675,
           113
          ],
          [
           7426,
           193
          ],
          [
           4044611,
           58649
          ],
          [
           4971965,
           21857
          ],
          [
           6175181,
           140070
          ],
          [
           8161,
           160
          ],
          [
           24421,
           386
          ],
          [
           5790,
           1
          ],
          [
           904934,
           8525
          ],
          [
           83823,
           805
          ],
          [
           1154129,
           16093
          ],
          [
           1106240,
           8529
          ],
          [
           44662,
           278
          ],
          [
           515596,
           1075
          ],
          [
           3937630,
           40325
          ],
          [
           0,
           0
          ],
          [
           91393,
           1375
          ],
          [
           3183166,
           6499
          ],
          [
           15690,
           189
          ],
          [
           14852,
           68
          ],
          [
           613628,
           4383
          ],
          [
           913939,
           35745
          ],
          [
           514133,
           24724
          ],
          [
           169646,
           4152
          ],
          [
           16191,
           183
          ],
          [
           9811,
           103
          ],
          [
           581560,
           2599
          ],
          [
           73177,
           1416
          ],
          [
           489846,
           7548
          ],
          [
           1823,
           0
          ],
          [
           34658,
           28
          ],
          [
           65889,
           866
          ],
          [
           1158485,
           4941
          ],
          [
           30878926,
           146474
          ],
          [
           88362,
           401
          ],
          [
           73451,
           649
          ],
          [
           47939,
           305
          ],
          [
           12009,
           365
          ],
          [
           1662299,
           16844
          ],
          [
           28808614,
           141627
          ],
          [
           166546,
           1452
          ],
          [
           19633,
           104
          ],
          [
           3774377,
           30371
          ],
          [
           11971,
           21
          ],
          [
           18475,
           232
          ],
          [
           171431,
           957
          ],
          [
           43970,
           372
          ],
          [
           922340,
           18628
          ],
          [
           28098,
           49
          ],
          [
           37123,
           443
          ],
          [
           8391,
           171
          ],
          [
           67699,
           1256
          ],
          [
           31703,
           837
          ],
          [
           26,
           0
          ],
          [
           427718,
           10906
          ],
          [
           1932788,
           46661
          ],
          [
           196527,
           179
          ],
          [
           43566739,
           525305
          ],
          [
           6103552,
           156776
          ],
          [
           7242919,
           141413
          ],
          [
           2369272,
           25249
          ],
          [
           1614631,
           7536
          ],
          [
           36998,
           110
          ],
          [
           4419672,
           11054
          ],
          [
           19048788,
           168770
          ],
          [
           143476,
           3147
          ],
          [
           9496651,
           31363
          ],
          [
           53889,
           131
          ],
          [
           1700526,
           14068
          ],
          [
           1397478,
           19018
          ],
          [
           335092,
           5659
          ],
          [
           3236,
           13
          ],
          [
           230352,
           3130
          ],
          [
           646098,
           2556
          ],
          [
           201101,
           2991
          ],
          [
           210331,
           757
          ],
          [
           838557,
           5866
          ],
          [
           1119461,
           10472
          ],
          [
           33938,
           699
          ],
          [
           7500,
           294
          ],
          [
           502189,
           6430
          ],
          [
           18014,
           84
          ],
          [
           1163529,
           9178
          ],
          [
           269086,
           1095
          ],
          [
           65787,
           1401
          ],
          [
           86576,
           2646
          ],
          [
           4582302,
           35792
          ],
          [
           182720,
           306
          ],
          [
           31181,
           737
          ],
          [
           106682,
           752
          ],
          [
           32,
           0
          ],
          [
           201211,
           971
          ],
          [
           60368,
           984
          ],
          [
           231036,
           1003
          ],
          [
           37958,
           187
          ],
          [
           6121808,
           325868
          ],
          [
           38,
           0
          ],
          [
           13358,
           59
          ],
          [
           929543,
           2119
          ],
          [
           241844,
           2729
          ],
          [
           1022,
           8
          ],
          [
           1233138,
           16133
          ],
          [
           228404,
           2214
          ],
          [
           613683,
           19434
          ],
          [
           166224,
           4065
          ],
          [
           5021,
           1
          ],
          [
           980058,
           11952
          ],
          [
           8217081,
           22396
          ],
          [
           65407,
           313
          ],
          [
           1394745,
           1561
          ],
          [
           14721,
           243
          ],
          [
           9031,
           310
          ],
          [
           257637,
           3144
          ],
          [
           23,
           0
          ],
          [
           315060,
           9327
          ],
          [
           11759,
           35
          ],
          [
           1448842,
           3415
          ],
          [
           391641,
           4628
          ],
          [
           1540080,
           30404
          ],
          [
           5269,
           6
          ],
          [
           662490,
           5662
          ],
          [
           925254,
           8373
          ],
          [
           44739,
           662
          ],
          [
           660841,
           18994
          ],
          [
           3644199,
           213593
          ],
          [
           3711268,
           60622
          ],
          [
           0,
           0
          ],
          [
           6019633,
           116449
          ],
          [
           5214701,
           24236
          ],
          [
           782768,
           4603
          ],
          [
           386528,
           679
          ],
          [
           18451862,
           24593
          ],
          [
           521182,
           11570
          ],
          [
           422769,
           812
          ],
          [
           2927187,
           65755
          ],
          [
           18451810,
           381450
          ],
          [
           131308,
           1459
          ],
          [
           4740,
           5
          ],
          [
           0,
           0
          ],
          [
           6228,
           43
          ],
          [
           27133,
           385
          ],
          [
           11061,
           46
          ],
          [
           2779,
           1
          ],
          [
           9076,
           114
          ],
          [
           14996,
           29
          ],
          [
           18361,
           115
          ],
          [
           6064,
           74
          ],
          [
           798474,
           9215
          ],
          [
           86411,
           1968
          ],
          [
           2035878,
           16138
          ],
          [
           45000,
           167
          ],
          [
           7704,
           125
          ],
          [
           1495953,
           1423
          ],
          [
           10601,
           87
          ],
          [
           1799054,
           20154
          ],
          [
           1044765,
           7828
          ],
          [
           21544,
           153
          ],
          [
           26803,
           1361
          ],
          [
           3996441,
           101859
          ],
          [
           17733,
           138
          ],
          [
           12890002,
           108259
          ],
          [
           664197,
           16524
          ],
          [
           62745,
           4952
          ],
          [
           80890,
           1376
          ],
          [
           2519199,
           19124
          ],
          [
           3787760,
           13329
          ],
          [
           55940,
           3150
          ],
          [
           17786,
           125
          ],
          [
           4538811,
           30778
          ],
          [
           22965,
           133
          ],
          [
           37493,
           275
          ],
          [
           0,
           0
          ],
          [
           12301,
           12
          ],
          [
           167658,
           4018
          ],
          [
           1066127,
           28748
          ],
          [
           15180444,
           99057
          ],
          [
           0,
           0
          ],
          [
           6234,
           36
          ],
          [
           3,
           0
          ],
          [
           167092,
           3621
          ],
          [
           5018019,
           108656
          ],
          [
           956382,
           2322
          ],
          [
           22884446,
           180718
          ],
          [
           35768,
           841
          ],
          [
           87020037,
           1009269
          ],
          [
           21022,
           118
          ],
          [
           962251,
           7351
          ],
          [
           241377,
           1637
          ],
          [
           11477,
           14
          ],
          [
           527241,
           5735
          ],
          [
           10751227,
           43089
          ],
          [
           456,
           7
          ],
          [
           11832,
           2149
          ],
          [
           326300,
           4008
          ],
          [
           255755,
           5558
          ]
         ],
         "geo": "geo",
         "hovertemplate": "<b>%{hovertext}</b><br><br>ISO=%{location}<br>Cases=%{z}<br>Deaths=%{customdata[1]}<extra></extra>",
         "hovertext": [
          "Afghanistan",
          "Albania",
          "Algeria",
          "American Samoa",
          "Andorra",
          "Angola",
          "Anguilla",
          "Antigua and Barbuda",
          "Argentina",
          "Armenia",
          "Aruba",
          "Australia",
          "Austria",
          "Azerbaijan",
          "Bahamas",
          "Bahrain",
          "Bangladesh",
          "Barbados",
          "Belarus",
          "Belgium",
          "Belize",
          "Benin",
          "Bermuda",
          "Bhutan",
          "Bolivia (Plurinational State of)",
          "Bonaire, Saint Eustatius and Saba",
          "Bosnia and Herzegovina",
          "Botswana",
          "Brazil",
          "British Virgin Islands",
          "Brunei Darussalam",
          "Bulgaria",
          "Burkina Faso",
          "Burundi",
          "Cabo Verde",
          "Cambodia",
          "Cameroon",
          "Canada",
          "Cayman Islands",
          "Central African Republic",
          "Chad",
          "Chile",
          "China",
          "Colombia",
          "Comoros",
          "Congo",
          "Cook Islands",
          "Costa Rica",
          "Côte d’Ivoire",
          "Croatia",
          "Cuba",
          "Curaçao",
          "Cyprus",
          "Czechia",
          "Democratic People's Republic of Korea",
          "Democratic Republic of the Congo",
          "Denmark",
          "Djibouti",
          "Dominica",
          "Dominican Republic",
          "Ecuador",
          "Egypt",
          "El Salvador",
          "Equatorial Guinea",
          "Eritrea",
          "Estonia",
          "Eswatini",
          "Ethiopia",
          "Falkland Islands (Malvinas)",
          "Faroe Islands",
          "Fiji",
          "Finland",
          "France",
          "French Guiana",
          "French Polynesia",
          "Gabon",
          "Gambia",
          "Georgia",
          "Germany",
          "Ghana",
          "Gibraltar",
          "Greece",
          "Greenland",
          "Grenada",
          "Guadeloupe",
          "Guam",
          "Guatemala",
          "Guernsey",
          "Guinea",
          "Guinea-Bissau",
          "Guyana",
          "Haiti",
          "Holy See",
          "Honduras",
          "Hungary",
          "Iceland",
          "India",
          "Indonesia",
          "Iran (Islamic Republic of)",
          "Iraq",
          "Ireland",
          "Isle of Man",
          "Israel",
          "Italy",
          "Jamaica",
          "Japan",
          "Jersey",
          "Jordan",
          "Kazakhstan",
          "Kenya",
          "Kiribati",
          "Kosovo",
          "Kuwait",
          "Kyrgyzstan",
          "Lao People's Democratic Republic",
          "Latvia",
          "Lebanon",
          "Lesotho",
          "Liberia",
          "Libya",
          "Liechtenstein",
          "Lithuania",
          "Luxembourg",
          "Madagascar",
          "Malawi",
          "Malaysia",
          "Maldives",
          "Mali",
          "Malta",
          "Marshall Islands",
          "Martinique",
          "Mauritania",
          "Mauritius",
          "Mayotte",
          "Mexico",
          "Micronesia (Federated States of)",
          "Monaco",
          "Mongolia",
          "Montenegro",
          "Montserrat",
          "Morocco",
          "Mozambique",
          "Myanmar",
          "Namibia",
          "Nauru",
          "Nepal",
          "Netherlands",
          "New Caledonia",
          "New Zealand",
          "Nicaragua",
          "Niger",
          "Nigeria",
          "Niue",
          "North Macedonia",
          "Northern Mariana Islands",
          "Norway",
          "Oman",
          "Pakistan",
          "Palau",
          "Palestinian Territory, Occupied",
          "Panama",
          "Papua New Guinea",
          "Paraguay",
          "Peru",
          "Philippines",
          "Pitcairn Islands",
          "Poland",
          "Portugal",
          "Puerto Rico",
          "Qatar",
          "Republic of Korea",
          "Republic of Moldova",
          "Réunion",
          "Romania",
          "Russian Federation",
          "Rwanda",
          "Saint Barthélemy",
          "Saint Helena",
          "Saint Kitts and Nevis",
          "Saint Lucia",
          "Saint Martin",
          "Saint Pierre and Miquelon",
          "Saint Vincent and the Grenadines",
          "Samoa",
          "San Marino",
          "Sao Tome and Principe",
          "Saudi Arabia",
          "Senegal",
          "Serbia",
          "Seychelles",
          "Sierra Leone",
          "Singapore",
          "Sint Maarten",
          "Slovakia",
          "Slovenia",
          "Solomon Islands",
          "Somalia",
          "South Africa",
          "South Sudan",
          "Spain",
          "Sri Lanka",
          "Sudan",
          "Suriname",
          "Sweden",
          "Switzerland",
          "Syrian Arab Republic",
          "Tajikistan",
          "Thailand",
          "Timor-Leste",
          "Togo",
          "Tokelau",
          "Tonga",
          "Trinidad and Tobago",
          "Tunisia",
          "Türkiye",
          "Turkmenistan",
          "Turks and Caicos Islands",
          "Tuvalu",
          "Uganda",
          "Ukraine",
          "United Arab Emirates",
          "United Kingdom of Great Britain and Northern Ireland",
          "United Republic of Tanzania",
          "United States of America",
          "United States Virgin Islands",
          "Uruguay",
          "Uzbekistan",
          "Vanuatu",
          "Venezuela (Bolivarian Republic of)",
          "Viet Nam",
          "Wallis and Futuna",
          "Yemen",
          "Zambia",
          "Zimbabwe"
         ],
         "locations": [
          "AFG",
          "ALB",
          "DZA",
          "ASM",
          "AND",
          "AGO",
          "AIA",
          "ATG",
          "ARG",
          "ARM",
          "ABW",
          "AUS",
          "AUT",
          "AZE",
          "BHS",
          "BHR",
          "BGD",
          "BRB",
          "BLR",
          "BEL",
          "BLZ",
          "BEN",
          "BMU",
          "BTN",
          "BOL",
          "BES",
          "BIH",
          "BWA",
          "BRA",
          "VGB",
          "BRN",
          "BGR",
          "BFA",
          "BDI",
          "CPV",
          "KHM",
          "CMR",
          "CAN",
          "CYM",
          "CAF",
          "TCD",
          "CHL",
          "CHN",
          "COL",
          "COM",
          "COG",
          "COK",
          "CRI",
          "CIV",
          "HRV",
          "CUB",
          "CUW",
          "CYP",
          "CZE",
          "PRK",
          "COD",
          "DNK",
          "DJI",
          "DMA",
          "DOM",
          "ECU",
          "EGY",
          "SLV",
          "GNQ",
          "ERI",
          "EST",
          "SWZ",
          "ETH",
          "FLK",
          "FRO",
          "FJI",
          "FIN",
          "FRA",
          "GUF",
          "PYF",
          "GAB",
          "GMB",
          "GEO",
          "DEU",
          "GHA",
          "GIB",
          "GRC",
          "GRL",
          "GRD",
          "GLP",
          "GUM",
          "GTM",
          "GGY",
          "GIN",
          "GNB",
          "GUY",
          "HTI",
          "VAT",
          "HND",
          "HUN",
          "ISL",
          "IND",
          "IDN",
          "IRN",
          "IRQ",
          "IRL",
          "IMN",
          "ISR",
          "ITA",
          "JAM",
          "JPN",
          "JEY",
          "JOR",
          "KAZ",
          "KEN",
          "KIR",
          "XKX",
          "KWT",
          "KGZ",
          "LAO",
          "LVA",
          "LBN",
          "LSO",
          "LBR",
          "LBY",
          "LIE",
          "LTU",
          "LUX",
          "MDG",
          "MWI",
          "MYS",
          "MDV",
          "MLI",
          "MLT",
          "MHL",
          "MTQ",
          "MRT",
          "MUS",
          "MYT",
          "MEX",
          "FSM",
          "MCO",
          "MNG",
          "MNE",
          "MSR",
          "MAR",
          "MOZ",
          "MMR",
          "NAM",
          "NRU",
          "NPL",
          "NLD",
          "NCL",
          "NZL",
          "NIC",
          "NER",
          "NGA",
          "NIU",
          "MKD",
          "MNP",
          "NOR",
          "OMN",
          "PAK",
          "PLW",
          "PSE",
          "PAN",
          "PNG",
          "PRY",
          "PER",
          "PHL",
          "PCN",
          "POL",
          "PRT",
          "PRI",
          "QAT",
          "KOR",
          "MDA",
          "REU",
          "ROU",
          "RUS",
          "RWA",
          "BLM",
          "SHN",
          "KNA",
          "LCA",
          "MAF",
          "SPM",
          "VCT",
          "WSM",
          "SMR",
          "STP",
          "SAU",
          "SEN",
          "SRB",
          "SYC",
          "SLE",
          "SGP",
          "SXM",
          "SVK",
          "SVN",
          "SLB",
          "SOM",
          "ZAF",
          "SSD",
          "ESP",
          "LKA",
          "SDN",
          "SUR",
          "SWE",
          "CHE",
          "SYR",
          "TJK",
          "THA",
          "TLS",
          "TGO",
          "TKL",
          "TON",
          "TTO",
          "TUN",
          "TUR",
          "TKM",
          "TCA",
          "TUV",
          "UGA",
          "UKR",
          "ARE",
          "GBR",
          "TZA",
          "USA",
          "VIR",
          "URY",
          "UZB",
          "VUT",
          "VEN",
          "VNM",
          "WLF",
          "YEM",
          "ZMB",
          "ZWE"
         ],
         "name": "",
         "type": "choropleth",
         "z": [
          182979,
          284758,
          266181,
          6505,
          44671,
          101320,
          3476,
          8668,
          9394326,
          423417,
          41000,
          8327916,
          4529939,
          793506,
          36082,
          634927,
          1984700,
          85331,
          994037,
          4265296,
          64581,
          27216,
          16162,
          59824,
          934235,
          10432,
          379244,
          323327,
          32610514,
          6941,
          171027,
          1175725,
          21044,
          42836,
          61105,
          136308,
          120068,
          3932523,
          27594,
          14675,
          7426,
          4044611,
          4971965,
          6175181,
          8161,
          24421,
          5790,
          904934,
          83823,
          1154129,
          1106240,
          44662,
          515596,
          3937630,
          0,
          91393,
          3183166,
          15690,
          14852,
          613628,
          913939,
          514133,
          169646,
          16191,
          9811,
          581560,
          73177,
          489846,
          1823,
          34658,
          65889,
          1158485,
          30878926,
          88362,
          73451,
          47939,
          12009,
          1662299,
          28808614,
          166546,
          19633,
          3774377,
          11971,
          18475,
          171431,
          43970,
          922340,
          28098,
          37123,
          8391,
          67699,
          31703,
          26,
          427718,
          1932788,
          196527,
          43566739,
          6103552,
          7242919,
          2369272,
          1614631,
          36998,
          4419672,
          19048788,
          143476,
          9496651,
          53889,
          1700526,
          1397478,
          335092,
          3236,
          230352,
          646098,
          201101,
          210331,
          838557,
          1119461,
          33938,
          7500,
          502189,
          18014,
          1163529,
          269086,
          65787,
          86576,
          4582302,
          182720,
          31181,
          106682,
          32,
          201211,
          60368,
          231036,
          37958,
          6121808,
          38,
          13358,
          929543,
          241844,
          1022,
          1233138,
          228404,
          613683,
          166224,
          5021,
          980058,
          8217081,
          65407,
          1394745,
          14721,
          9031,
          257637,
          23,
          315060,
          11759,
          1448842,
          391641,
          1540080,
          5269,
          662490,
          925254,
          44739,
          660841,
          3644199,
          3711268,
          0,
          6019633,
          5214701,
          782768,
          386528,
          18451862,
          521182,
          422769,
          2927187,
          18451810,
          131308,
          4740,
          0,
          6228,
          27133,
          11061,
          2779,
          9076,
          14996,
          18361,
          6064,
          798474,
          86411,
          2035878,
          45000,
          7704,
          1495953,
          10601,
          1799054,
          1044765,
          21544,
          26803,
          3996441,
          17733,
          12890002,
          664197,
          62745,
          80890,
          2519199,
          3787760,
          55940,
          17786,
          4538811,
          22965,
          37493,
          0,
          12301,
          167658,
          1066127,
          15180444,
          0,
          6234,
          3,
          167092,
          5018019,
          956382,
          22884446,
          35768,
          87020037,
          21022,
          962251,
          241377,
          11477,
          527241,
          10751227,
          456,
          11832,
          326300,
          255755
         ]
        },
        {
         "geo": "geo",
         "hoverinfo": "skip",
         "legendgroup": "",
         "locations": [
          "AFG",
          "ALB",
          "DZA",
          "ASM",
          "AND",
          "AGO",
          "AIA",
          "ATG",
          "ARG",
          "ARM",
          "ABW",
          "AUS",
          "AUT",
          "AZE",
          "BHS",
          "BHR",
          "BGD",
          "BRB",
          "BLR",
          "BEL",
          "BLZ",
          "BEN",
          "BMU",
          "BTN",
          "BOL",
          "BES",
          "BIH",
          "BWA",
          "BRA",
          "VGB",
          "BRN",
          "BGR",
          "BFA",
          "BDI",
          "CPV",
          "KHM",
          "CMR",
          "CAN",
          "CYM",
          "CAF",
          "TCD",
          "CHL",
          "CHN",
          "COL",
          "COM",
          "COG",
          "COK",
          "CRI",
          "CIV",
          "HRV",
          "CUB",
          "CUW",
          "CYP",
          "CZE",
          "PRK",
          "COD",
          "DNK",
          "DJI",
          "DMA",
          "DOM",
          "ECU",
          "EGY",
          "SLV",
          "GNQ",
          "ERI",
          "EST",
          "SWZ",
          "ETH",
          "FLK",
          "FRO",
          "FJI",
          "FIN",
          "FRA",
          "GUF",
          "PYF",
          "GAB",
          "GMB",
          "GEO",
          "DEU",
          "GHA",
          "GIB",
          "GRC",
          "GRL",
          "GRD",
          "GLP",
          "GUM",
          "GTM",
          "GGY",
          "GIN",
          "GNB",
          "GUY",
          "HTI",
          "VAT",
          "HND",
          "HUN",
          "ISL",
          "IND",
          "IDN",
          "IRN",
          "IRQ",
          "IRL",
          "IMN",
          "ISR",
          "ITA",
          "JAM",
          "JPN",
          "JEY",
          "JOR",
          "KAZ",
          "KEN",
          "KIR",
          "XKX",
          "KWT",
          "KGZ",
          "LAO",
          "LVA",
          "LBN",
          "LSO",
          "LBR",
          "LBY",
          "LIE",
          "LTU",
          "LUX",
          "MDG",
          "MWI",
          "MYS",
          "MDV",
          "MLI",
          "MLT",
          "MHL",
          "MTQ",
          "MRT",
          "MUS",
          "MYT",
          "MEX",
          "FSM",
          "MCO",
          "MNG",
          "MNE",
          "MSR",
          "MAR",
          "MOZ",
          "MMR",
          "NAM",
          "NRU",
          "NPL",
          "NLD",
          "NCL",
          "NZL",
          "NIC",
          "NER",
          "NGA",
          "NIU",
          "MKD",
          "MNP",
          "NOR",
          "OMN",
          "PAK",
          "PLW",
          "PSE",
          "PAN",
          "PNG",
          "PRY",
          "PER",
          "PHL",
          "PCN",
          "POL",
          "PRT",
          "PRI",
          "QAT",
          "KOR",
          "MDA",
          "REU",
          "ROU",
          "RUS",
          "RWA",
          "BLM",
          "SHN",
          "KNA",
          "LCA",
          "MAF",
          "SPM",
          "VCT",
          "WSM",
          "SMR",
          "STP",
          "SAU",
          "SEN",
          "SRB",
          "SYC",
          "SLE",
          "SGP",
          "SXM",
          "SVK",
          "SVN",
          "SLB",
          "SOM",
          "ZAF",
          "SSD",
          "ESP",
          "LKA",
          "SDN",
          "SUR",
          "SWE",
          "CHE",
          "SYR",
          "TJK",
          "THA",
          "TLS",
          "TGO",
          "TKL",
          "TON",
          "TTO",
          "TUN",
          "TUR",
          "TKM",
          "TCA",
          "TUV",
          "UGA",
          "UKR",
          "ARE",
          "GBR",
          "TZA",
          "USA",
          "VIR",
          "URY",
          "UZB",
          "VUT",
          "VEN",
          "VNM",
          "WLF",
          "YEM",
          "ZMB",
          "ZWE"
         ],
         "marker": {
          "color": "#636efa",
          "size": [
           7725,
           3508,
           6875,
           31,
           153,
           1900,
           9,
           141,
           129109,
           8626,
           222,
           10131,
           20093,
           9718,
           818,
           1498,
           29185,
           477,
           7118,
           31952,
           680,
           163,
           140,
           21,
           21959,
           37,
           15808,
           2752,
           672429,
           63,
           168,
           37263,
           387,
           15,
           406,
           3056,
           1931,
           41756,
           29,
           113,
           193,
           58649,
           21857,
           140070,
           160,
           386,
           1,
           8525,
           805,
           16093,
           8529,
           278,
           1075,
           40325,
           0,
           1375,
           6499,
           189,
           68,
           4383,
           35745,
           24724,
           4152,
           183,
           103,
           2599,
           1416,
           7548,
           0,
           28,
           866,
           4941,
           146474,
           401,
           649,
           305,
           365,
           16844,
           141627,
           1452,
           104,
           30371,
           21,
           232,
           957,
           372,
           18628,
           49,
           443,
           171,
           1256,
           837,
           0,
           10906,
           46661,
           179,
           525305,
           156776,
           141413,
           25249,
           7536,
           110,
           11054,
           168770,
           3147,
           31363,
           131,
           14068,
           19018,
           5659,
           13,
           3130,
           2556,
           2991,
           757,
           5866,
           10472,
           699,
           294,
           6430,
           84,
           9178,
           1095,
           1401,
           2646,
           35792,
           306,
           737,
           752,
           0,
           971,
           984,
           1003,
           187,
           325868,
           0,
           59,
           2119,
           2729,
           8,
           16133,
           2214,
           19434,
           4065,
           1,
           11952,
           22396,
           313,
           1561,
           243,
           310,
           3144,
           0,
           9327,
           35,
           3415,
           4628,
           30404,
           6,
           5662,
           8373,
           662,
           18994,
           213593,
           60622,
           0,
           116449,
           24236,
           4603,
           679,
           24593,
           11570,
           812,
           65755,
           381450,
           1459,
           5,
           0,
           43,
           385,
           46,
           1,
           114,
           29,
           115,
           74,
           9215,
           1968,
           16138,
           167,
           125,
           1423,
           87,
           20154,
           7828,
           153,
           1361,
           101859,
           138,
           108259,
           16524,
           4952,
           1376,
           19124,
           13329,
           3150,
           125,
           30778,
           133,
           275,
           0,
           12,
           4018,
           28748,
           99057,
           0,
           36,
           0,
           3621,
           108656,
           2322,
           180718,
           841,
           1009269,
           118,
           7351,
           1637,
           14,
           5735,
           43089,
           7,
           2149,
           4008,
           5558
          ],
          "sizemode": "area",
          "sizeref": 2523.1725,
          "symbol": "circle"
         },
         "mode": "markers",
         "name": "",
         "showlegend": false,
         "type": "scattergeo"
        }
       ],
       "layout": {
        "annotations": [
         {
          "showarrow": false,
          "text": "Source: <a href=\"https://covid19.who.int/data\">                World Health Organization Coronavirus (COVID-19) Dashboard Data</a>",
          "x": 1.05,
          "xref": "paper",
          "y": -0.15,
          "yref": "paper"
         }
        ],
        "coloraxis": {
         "cmax": 223,
         "cmin": 21169,
         "colorbar": {
          "title": {
           "text": "Cases"
          },
          "x": 0.8,
          "y": 0.55
         },
         "colorscale": [
          [
           0,
           "rgb(255,245,240)"
          ],
          [
           0.125,
           "rgb(254,224,210)"
          ],
          [
           0.25,
           "rgb(252,187,161)"
          ],
          [
           0.375,
           "rgb(252,146,114)"
          ],
          [
           0.5,
           "rgb(251,106,74)"
          ],
          [
           0.625,
           "rgb(239,59,44)"
          ],
          [
           0.75,
           "rgb(203,24,29)"
          ],
          [
           0.875,
           "rgb(165,15,21)"
          ],
          [
           1,
           "rgb(103,0,13)"
          ]
         ]
        },
        "geo": {
         "center": {},
         "domain": {
          "x": [
           0,
           1
          ],
          "y": [
           0,
           1
          ]
         },
         "lakecolor": "LightBlue",
         "oceancolor": "LightBlue",
         "projection": {
          "type": "natural earth"
         },
         "showlakes": true,
         "showocean": true
        },
        "legend": {
         "tracegroupgap": 0
        },
        "margin": {
         "b": 50,
         "l": 0,
         "r": 0,
         "t": 50
        },
        "modebar": {
         "orientation": "v"
        },
        "template": {
         "data": {
          "bar": [
           {
            "error_x": {
             "color": "#2a3f5f"
            },
            "error_y": {
             "color": "#2a3f5f"
            },
            "marker": {
             "line": {
              "color": "#E5ECF6",
              "width": 0.5
             },
             "pattern": {
              "fillmode": "overlay",
              "size": 10,
              "solidity": 0.2
             }
            },
            "type": "bar"
           }
          ],
          "barpolar": [
           {
            "marker": {
             "line": {
              "color": "#E5ECF6",
              "width": 0.5
             },
             "pattern": {
              "fillmode": "overlay",
              "size": 10,
              "solidity": 0.2
             }
            },
            "type": "barpolar"
           }
          ],
          "carpet": [
           {
            "aaxis": {
             "endlinecolor": "#2a3f5f",
             "gridcolor": "white",
             "linecolor": "white",
             "minorgridcolor": "white",
             "startlinecolor": "#2a3f5f"
            },
            "baxis": {
             "endlinecolor": "#2a3f5f",
             "gridcolor": "white",
             "linecolor": "white",
             "minorgridcolor": "white",
             "startlinecolor": "#2a3f5f"
            },
            "type": "carpet"
           }
          ],
          "choropleth": [
           {
            "colorbar": {
             "outlinewidth": 0,
             "ticks": ""
            },
            "type": "choropleth"
           }
          ],
          "contour": [
           {
            "colorbar": {
             "outlinewidth": 0,
             "ticks": ""
            },
            "colorscale": [
             [
              0,
              "#0d0887"
             ],
             [
              0.1111111111111111,
              "#46039f"
             ],
             [
              0.2222222222222222,
              "#7201a8"
             ],
             [
              0.3333333333333333,
              "#9c179e"
             ],
             [
              0.4444444444444444,
              "#bd3786"
             ],
             [
              0.5555555555555556,
              "#d8576b"
             ],
             [
              0.6666666666666666,
              "#ed7953"
             ],
             [
              0.7777777777777778,
              "#fb9f3a"
             ],
             [
              0.8888888888888888,
              "#fdca26"
             ],
             [
              1,
              "#f0f921"
             ]
            ],
            "type": "contour"
           }
          ],
          "contourcarpet": [
           {
            "colorbar": {
             "outlinewidth": 0,
             "ticks": ""
            },
            "type": "contourcarpet"
           }
          ],
          "heatmap": [
           {
            "colorbar": {
             "outlinewidth": 0,
             "ticks": ""
            },
            "colorscale": [
             [
              0,
              "#0d0887"
             ],
             [
              0.1111111111111111,
              "#46039f"
             ],
             [
              0.2222222222222222,
              "#7201a8"
             ],
             [
              0.3333333333333333,
              "#9c179e"
             ],
             [
              0.4444444444444444,
              "#bd3786"
             ],
             [
              0.5555555555555556,
              "#d8576b"
             ],
             [
              0.6666666666666666,
              "#ed7953"
             ],
             [
              0.7777777777777778,
              "#fb9f3a"
             ],
             [
              0.8888888888888888,
              "#fdca26"
             ],
             [
              1,
              "#f0f921"
             ]
            ],
            "type": "heatmap"
           }
          ],
          "heatmapgl": [
           {
            "colorbar": {
             "outlinewidth": 0,
             "ticks": ""
            },
            "colorscale": [
             [
              0,
              "#0d0887"
             ],
             [
              0.1111111111111111,
              "#46039f"
             ],
             [
              0.2222222222222222,
              "#7201a8"
             ],
             [
              0.3333333333333333,
              "#9c179e"
             ],
             [
              0.4444444444444444,
              "#bd3786"
             ],
             [
              0.5555555555555556,
              "#d8576b"
             ],
             [
              0.6666666666666666,
              "#ed7953"
             ],
             [
              0.7777777777777778,
              "#fb9f3a"
             ],
             [
              0.8888888888888888,
              "#fdca26"
             ],
             [
              1,
              "#f0f921"
             ]
            ],
            "type": "heatmapgl"
           }
          ],
          "histogram": [
           {
            "marker": {
             "pattern": {
              "fillmode": "overlay",
              "size": 10,
              "solidity": 0.2
             }
            },
            "type": "histogram"
           }
          ],
          "histogram2d": [
           {
            "colorbar": {
             "outlinewidth": 0,
             "ticks": ""
            },
            "colorscale": [
             [
              0,
              "#0d0887"
             ],
             [
              0.1111111111111111,
              "#46039f"
             ],
             [
              0.2222222222222222,
              "#7201a8"
             ],
             [
              0.3333333333333333,
              "#9c179e"
             ],
             [
              0.4444444444444444,
              "#bd3786"
             ],
             [
              0.5555555555555556,
              "#d8576b"
             ],
             [
              0.6666666666666666,
              "#ed7953"
             ],
             [
              0.7777777777777778,
              "#fb9f3a"
             ],
             [
              0.8888888888888888,
              "#fdca26"
             ],
             [
              1,
              "#f0f921"
             ]
            ],
            "type": "histogram2d"
           }
          ],
          "histogram2dcontour": [
           {
            "colorbar": {
             "outlinewidth": 0,
             "ticks": ""
            },
            "colorscale": [
             [
              0,
              "#0d0887"
             ],
             [
              0.1111111111111111,
              "#46039f"
             ],
             [
              0.2222222222222222,
              "#7201a8"
             ],
             [
              0.3333333333333333,
              "#9c179e"
             ],
             [
              0.4444444444444444,
              "#bd3786"
             ],
             [
              0.5555555555555556,
              "#d8576b"
             ],
             [
              0.6666666666666666,
              "#ed7953"
             ],
             [
              0.7777777777777778,
              "#fb9f3a"
             ],
             [
              0.8888888888888888,
              "#fdca26"
             ],
             [
              1,
              "#f0f921"
             ]
            ],
            "type": "histogram2dcontour"
           }
          ],
          "mesh3d": [
           {
            "colorbar": {
             "outlinewidth": 0,
             "ticks": ""
            },
            "type": "mesh3d"
           }
          ],
          "parcoords": [
           {
            "line": {
             "colorbar": {
              "outlinewidth": 0,
              "ticks": ""
             }
            },
            "type": "parcoords"
           }
          ],
          "pie": [
           {
            "automargin": true,
            "type": "pie"
           }
          ],
          "scatter": [
           {
            "fillpattern": {
             "fillmode": "overlay",
             "size": 10,
             "solidity": 0.2
            },
            "type": "scatter"
           }
          ],
          "scatter3d": [
           {
            "line": {
             "colorbar": {
              "outlinewidth": 0,
              "ticks": ""
             }
            },
            "marker": {
             "colorbar": {
              "outlinewidth": 0,
              "ticks": ""
             }
            },
            "type": "scatter3d"
           }
          ],
          "scattercarpet": [
           {
            "marker": {
             "colorbar": {
              "outlinewidth": 0,
              "ticks": ""
             }
            },
            "type": "scattercarpet"
           }
          ],
          "scattergeo": [
           {
            "marker": {
             "colorbar": {
              "outlinewidth": 0,
              "ticks": ""
             }
            },
            "type": "scattergeo"
           }
          ],
          "scattergl": [
           {
            "marker": {
             "colorbar": {
              "outlinewidth": 0,
              "ticks": ""
             }
            },
            "type": "scattergl"
           }
          ],
          "scattermapbox": [
           {
            "marker": {
             "colorbar": {
              "outlinewidth": 0,
              "ticks": ""
             }
            },
            "type": "scattermapbox"
           }
          ],
          "scatterpolar": [
           {
            "marker": {
             "colorbar": {
              "outlinewidth": 0,
              "ticks": ""
             }
            },
            "type": "scatterpolar"
           }
          ],
          "scatterpolargl": [
           {
            "marker": {
             "colorbar": {
              "outlinewidth": 0,
              "ticks": ""
             }
            },
            "type": "scatterpolargl"
           }
          ],
          "scatterternary": [
           {
            "marker": {
             "colorbar": {
              "outlinewidth": 0,
              "ticks": ""
             }
            },
            "type": "scatterternary"
           }
          ],
          "surface": [
           {
            "colorbar": {
             "outlinewidth": 0,
             "ticks": ""
            },
            "colorscale": [
             [
              0,
              "#0d0887"
             ],
             [
              0.1111111111111111,
              "#46039f"
             ],
             [
              0.2222222222222222,
              "#7201a8"
             ],
             [
              0.3333333333333333,
              "#9c179e"
             ],
             [
              0.4444444444444444,
              "#bd3786"
             ],
             [
              0.5555555555555556,
              "#d8576b"
             ],
             [
              0.6666666666666666,
              "#ed7953"
             ],
             [
              0.7777777777777778,
              "#fb9f3a"
             ],
             [
              0.8888888888888888,
              "#fdca26"
             ],
             [
              1,
              "#f0f921"
             ]
            ],
            "type": "surface"
           }
          ],
          "table": [
           {
            "cells": {
             "fill": {
              "color": "#EBF0F8"
             },
             "line": {
              "color": "white"
             }
            },
            "header": {
             "fill": {
              "color": "#C8D4E3"
             },
             "line": {
              "color": "white"
             }
            },
            "type": "table"
           }
          ]
         },
         "layout": {
          "annotationdefaults": {
           "arrowcolor": "#2a3f5f",
           "arrowhead": 0,
           "arrowwidth": 1
          },
          "autotypenumbers": "strict",
          "coloraxis": {
           "colorbar": {
            "outlinewidth": 0,
            "ticks": ""
           }
          },
          "colorscale": {
           "diverging": [
            [
             0,
             "#8e0152"
            ],
            [
             0.1,
             "#c51b7d"
            ],
            [
             0.2,
             "#de77ae"
            ],
            [
             0.3,
             "#f1b6da"
            ],
            [
             0.4,
             "#fde0ef"
            ],
            [
             0.5,
             "#f7f7f7"
            ],
            [
             0.6,
             "#e6f5d0"
            ],
            [
             0.7,
             "#b8e186"
            ],
            [
             0.8,
             "#7fbc41"
            ],
            [
             0.9,
             "#4d9221"
            ],
            [
             1,
             "#276419"
            ]
           ],
           "sequential": [
            [
             0,
             "#0d0887"
            ],
            [
             0.1111111111111111,
             "#46039f"
            ],
            [
             0.2222222222222222,
             "#7201a8"
            ],
            [
             0.3333333333333333,
             "#9c179e"
            ],
            [
             0.4444444444444444,
             "#bd3786"
            ],
            [
             0.5555555555555556,
             "#d8576b"
            ],
            [
             0.6666666666666666,
             "#ed7953"
            ],
            [
             0.7777777777777778,
             "#fb9f3a"
            ],
            [
             0.8888888888888888,
             "#fdca26"
            ],
            [
             1,
             "#f0f921"
            ]
           ],
           "sequentialminus": [
            [
             0,
             "#0d0887"
            ],
            [
             0.1111111111111111,
             "#46039f"
            ],
            [
             0.2222222222222222,
             "#7201a8"
            ],
            [
             0.3333333333333333,
             "#9c179e"
            ],
            [
             0.4444444444444444,
             "#bd3786"
            ],
            [
             0.5555555555555556,
             "#d8576b"
            ],
            [
             0.6666666666666666,
             "#ed7953"
            ],
            [
             0.7777777777777778,
             "#fb9f3a"
            ],
            [
             0.8888888888888888,
             "#fdca26"
            ],
            [
             1,
             "#f0f921"
            ]
           ]
          },
          "colorway": [
           "#636efa",
           "#EF553B",
           "#00cc96",
           "#ab63fa",
           "#FFA15A",
           "#19d3f3",
           "#FF6692",
           "#B6E880",
           "#FF97FF",
           "#FECB52"
          ],
          "font": {
           "color": "#2a3f5f"
          },
          "geo": {
           "bgcolor": "white",
           "lakecolor": "white",
           "landcolor": "#E5ECF6",
           "showlakes": true,
           "showland": true,
           "subunitcolor": "white"
          },
          "hoverlabel": {
           "align": "left"
          },
          "hovermode": "closest",
          "mapbox": {
           "style": "light"
          },
          "paper_bgcolor": "white",
          "plot_bgcolor": "#E5ECF6",
          "polar": {
           "angularaxis": {
            "gridcolor": "white",
            "linecolor": "white",
            "ticks": ""
           },
           "bgcolor": "#E5ECF6",
           "radialaxis": {
            "gridcolor": "white",
            "linecolor": "white",
            "ticks": ""
           }
          },
          "scene": {
           "xaxis": {
            "backgroundcolor": "#E5ECF6",
            "gridcolor": "white",
            "gridwidth": 2,
            "linecolor": "white",
            "showbackground": true,
            "ticks": "",
            "zerolinecolor": "white"
           },
           "yaxis": {
            "backgroundcolor": "#E5ECF6",
            "gridcolor": "white",
            "gridwidth": 2,
            "linecolor": "white",
            "showbackground": true,
            "ticks": "",
            "zerolinecolor": "white"
           },
           "zaxis": {
            "backgroundcolor": "#E5ECF6",
            "gridcolor": "white",
            "gridwidth": 2,
            "linecolor": "white",
            "showbackground": true,
            "ticks": "",
            "zerolinecolor": "white"
           }
          },
          "shapedefaults": {
           "line": {
            "color": "#2a3f5f"
           }
          },
          "ternary": {
           "aaxis": {
            "gridcolor": "white",
            "linecolor": "white",
            "ticks": ""
           },
           "baxis": {
            "gridcolor": "white",
            "linecolor": "white",
            "ticks": ""
           },
           "bgcolor": "#E5ECF6",
           "caxis": {
            "gridcolor": "white",
            "linecolor": "white",
            "ticks": ""
           }
          },
          "title": {
           "x": 0.05
          },
          "xaxis": {
           "automargin": true,
           "gridcolor": "white",
           "linecolor": "white",
           "ticks": "",
           "title": {
            "standoff": 15
           },
           "zerolinecolor": "white",
           "zerolinewidth": 2
          },
          "yaxis": {
           "automargin": true,
           "gridcolor": "white",
           "linecolor": "white",
           "ticks": "",
           "title": {
            "standoff": 15
           },
           "zerolinecolor": "white",
           "zerolinewidth": 2
          }
         }
        },
        "title": {
         "text": "<i><b>Global Confirmed Covid Cases</b></i>",
         "x": 0.5,
         "xanchor": "center",
         "y": 0.95,
         "yanchor": "top"
        }
       }
      }
     },
     "metadata": {},
     "output_type": "display_data"
    }
   ],
   "source": [
    "# Author        : Muhammad Iqbal bin Asim\n",
    "# GH            : /micheunderscore\n",
    "\n",
    "# Python library imports\n",
    "import pandas as pd\n",
    "import plotly.express as px\n",
    "\n",
    "# Load Data\n",
    "df = pd.read_csv(\"../dataset.csv\")\n",
    "# Cull unused columns\n",
    "df = df[[\"Name\", \"ISO\", \"Cases - cumulative total\", \"Deaths - cumulative total\"]]\n",
    "\n",
    "# Plot title customization\n",
    "plotTitle = {\n",
    "    \"text\": \"<i><b>Global Confirmed Covid Cases</b></i>\",\n",
    "    \"y\": 0.95,\n",
    "    \"x\": 0.5,\n",
    "    \"xanchor\": \"center\",\n",
    "    \"yanchor\": \"top\"\n",
    "}\n",
    "\n",
    "# Focal column\n",
    "col = \"Cases - cumulative total\"\n",
    "\n",
    "# Maximum and minimum boundaries for chart scale\n",
    "AMin = df[col].quantile([0.25])[0.25] # First Quantile as minimum because actual minimum is literally too low (54)\n",
    "AMax = df[col].idxmax()\n",
    "\n",
    "# Choropleth chart of covid cases worldwide\n",
    "figA = px.choropleth(\n",
    "        df, locations=\"ISO\", hover_name=\"Name\", color=col, \n",
    "        color_continuous_scale=px.colors.sequential.Reds,\n",
    "        range_color=(AMin, AMax), \n",
    "        hover_data=[col, \"Deaths - cumulative total\"],\n",
    "        labels={col: \"Cases\", \"Deaths - cumulative total\": \"Deaths\"}\n",
    "        )\n",
    "\n",
    "# Geo scatter plot for covid deaths\n",
    "figB = px.scatter_geo(\n",
    "            df, locations=\"ISO\", size=\"Deaths - cumulative total\"\n",
    "        ).update_traces(hovertemplate=None, hoverinfo=\"skip\")\n",
    "\n",
    "# Combine both figures\n",
    "figA.add_trace(figB.data[0])\n",
    "\n",
    "# Customize map\n",
    "figA.update_geos(\n",
    "    projection_type=\"natural earth\",\n",
    "    showocean=True, oceancolor=\"LightBlue\",\n",
    "    showlakes=True, lakecolor=\"LightBlue\",\n",
    ")\n",
    "\n",
    "# Update plot layout\n",
    "figA.update_layout(\n",
    "        title=plotTitle,\n",
    "        coloraxis_colorbar_x=0.8,\n",
    "        coloraxis_colorbar_y=0.55,\n",
    "        modebar={\n",
    "            \"orientation\":\"v\"\n",
    "        },\n",
    "        margin={\"r\":0,\"t\":50,\"l\":0,\"b\":50}, \n",
    "        annotations = [dict(\n",
    "            x=1.05,\n",
    "            y=-0.15,\n",
    "            xref='paper',\n",
    "            yref='paper',\n",
    "            text='Source: <a href=\"https://covid19.who.int/data\">\\\n",
    "                World Health Organization Coronavirus (COVID-19) Dashboard Data</a>',\n",
    "            showarrow = False\n",
    "        )]\n",
    "    )\n",
    "\n",
    "# Show plot\n",
    "figA.show()"
   ]
  }
 ],
 "metadata": {
  "kernelspec": {
   "display_name": "Python 3.9.13 64-bit (windows store)",
   "language": "python",
   "name": "python3"
  },
  "language_info": {
   "codemirror_mode": {
    "name": "ipython",
    "version": 3
   },
   "file_extension": ".py",
   "mimetype": "text/x-python",
   "name": "python",
   "nbconvert_exporter": "python",
   "pygments_lexer": "ipython3",
   "version": "3.9.13"
  },
  "orig_nbformat": 4,
  "vscode": {
   "interpreter": {
    "hash": "cb2e794325730d7bcceaff0d88dc27381229a72a4af7e69e0ca84c287ffc706f"
   }
  }
 },
 "nbformat": 4,
 "nbformat_minor": 2
}
